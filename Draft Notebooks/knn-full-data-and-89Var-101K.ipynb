{
 "cells": [
  {
   "cell_type": "markdown",
   "id": "73bd8170",
   "metadata": {
    "papermill": {
     "duration": 0.005565,
     "end_time": "2024-11-08T12:58:06.104105",
     "exception": false,
     "start_time": "2024-11-08T12:58:06.098540",
     "status": "completed"
    },
    "tags": []
   },
   "source": [
    "Import packages for training KNN"
   ]
  },
  {
   "cell_type": "code",
   "execution_count": 1,
   "id": "17defa28",
   "metadata": {
    "execution": {
     "iopub.execute_input": "2024-11-08T12:58:06.116961Z",
     "iopub.status.busy": "2024-11-08T12:58:06.116481Z",
     "iopub.status.idle": "2024-11-08T12:58:24.849332Z",
     "shell.execute_reply": "2024-11-08T12:58:24.848156Z"
    },
    "papermill": {
     "duration": 18.742481,
     "end_time": "2024-11-08T12:58:24.852311",
     "exception": false,
     "start_time": "2024-11-08T12:58:06.109830",
     "status": "completed"
    },
    "pycharm": {
     "name": "#%%\n"
    },
    "tags": []
   },
   "outputs": [],
   "source": [
    "import tensorflow as tf\n",
    "\n",
    "import pandas as pd\n",
    "\n",
    "import numpy as np\n",
    "\n",
    "import seaborn as sns\n",
    "\n",
    "import matplotlib.pyplot as plt\n",
    "\n",
    "from sklearn.neighbors import KNeighborsClassifier\n",
    "\n",
    "from sklearn.model_selection import KFold\n",
    "\n",
    "from sklearn.model_selection import train_test_split\n",
    "\n",
    "from sklearn.metrics import accuracy_score, classification_report\n",
    "\n",
    "\n"
   ]
  },
  {
   "cell_type": "markdown",
   "id": "e44043ed",
   "metadata": {
    "papermill": {
     "duration": 0.005265,
     "end_time": "2024-11-08T12:58:24.862718",
     "exception": false,
     "start_time": "2024-11-08T12:58:24.857453",
     "status": "completed"
    },
    "tags": []
   },
   "source": [
    "**Load data with or without varinced columns**"
   ]
  },
  {
   "cell_type": "code",
   "execution_count": 2,
   "id": "b087765e",
   "metadata": {
    "collapsed": false,
    "execution": {
     "iopub.execute_input": "2024-11-08T12:58:24.875133Z",
     "iopub.status.busy": "2024-11-08T12:58:24.874372Z",
     "iopub.status.idle": "2024-11-08T12:58:25.122645Z",
     "shell.execute_reply": "2024-11-08T12:58:25.121189Z"
    },
    "jupyter": {
     "outputs_hidden": false
    },
    "papermill": {
     "duration": 0.257656,
     "end_time": "2024-11-08T12:58:25.125545",
     "exception": false,
     "start_time": "2024-11-08T12:58:24.867889",
     "status": "completed"
    },
    "pycharm": {
     "name": "#%%\n"
    },
    "tags": []
   },
   "outputs": [],
   "source": [
    "def load(per = 0, isVar = False):\n",
    "    df = pd.read_csv('/kaggle/input/icr-identify-age-related-conditions/train.csv')\n",
    "    \n",
    "    df.drop('Id', axis=1, inplace=True)\n",
    "    \n",
    "    train_df = df.drop('Class', axis=1)\n",
    "    \n",
    "    test_df = df['Class']\n",
    "    \n",
    "    # map A to 0 B to 1 - will also try use other numbers or ignore this column\n",
    "    train_df['EJ'] = train_df['EJ'].map({'A': 0, 'B': 1})\n",
    "    \n",
    "    # replace null values with the mean of the column\n",
    "    train_df.fillna(train_df.mean(), inplace=True)\n",
    "    \n",
    "    # remove top 'per' varianced columns\n",
    "    def remove_var(X_train, isVar, per = 0.1):\n",
    "        # Calculate the variance of each column\n",
    "        variances = X_train.var()\n",
    "        \n",
    "        # Sort variances in descending order and select the top 20% most variable columns\n",
    "        top_var = int(len(variances) * per)\n",
    "        high_variance_columns = variances.nlargest(top_var).index\n",
    "        # print(\"HELP. PER = \", per, \" ISVAR\", isVar)\n",
    "        if not isVar:\n",
    "            # Drop these high variance columns from the train_df\n",
    "            X_train.drop(columns=high_variance_columns, inplace=True)\n",
    "        else: \n",
    "            X_train = X_train[high_variance_columns]\n",
    "        \n",
    "        return X_train, high_variance_columns\n",
    "    if per == 0: return train_df, test_df, None\n",
    "        \n",
    "    train_df, high_variance_columns = remove_var(train_df, isVar, per)\n",
    "    return train_df, test_df, high_variance_columns"
   ]
  },
  {
   "cell_type": "markdown",
   "id": "5b99dc4d",
   "metadata": {
    "papermill": {
     "duration": 0.004891,
     "end_time": "2024-11-08T12:58:25.136068",
     "exception": false,
     "start_time": "2024-11-08T12:58:25.131177",
     "status": "completed"
    },
    "tags": []
   },
   "source": [
    "**Helper Function**"
   ]
  },
  {
   "cell_type": "code",
   "execution_count": 3,
   "id": "efc23ff5",
   "metadata": {
    "execution": {
     "iopub.execute_input": "2024-11-08T12:58:25.149350Z",
     "iopub.status.busy": "2024-11-08T12:58:25.148107Z",
     "iopub.status.idle": "2024-11-08T12:58:25.161464Z",
     "shell.execute_reply": "2024-11-08T12:58:25.160101Z"
    },
    "papermill": {
     "duration": 0.022914,
     "end_time": "2024-11-08T12:58:25.164205",
     "exception": false,
     "start_time": "2024-11-08T12:58:25.141291",
     "status": "completed"
    },
    "tags": []
   },
   "outputs": [],
   "source": [
    "# KNN function to return probability for class 1\n",
    "def k_NN(data, labels, k, testData):\n",
    "    knn = KNeighborsClassifier(n_neighbors=k)\n",
    "    knn.fit(data, labels)\n",
    "    return knn.predict_proba(testData)[:, 1]\n",
    "\n",
    "# Calculate average probabilities across multiple KNN models\n",
    "def getResult(max_k, x_train, y_train, x_test):\n",
    "    arrays = [k_NN(x_train, y_train, i, x_test) for i in range(3, max_k + 1, 1)]  # KNN for odd k values\n",
    "    return np.mean(np.stack(arrays), axis=0)  # Average across all models\n",
    "\n",
    "# Convert probabilities to class predictions (0 or 1)\n",
    "def getClassesResult(max_k, x_train, y_train, x_test):\n",
    "    return np.where(getResult(max_k, x_train, y_train, x_test) >= 0.5, 1, 0)\n",
    "\n",
    "# Generate final DataFrame with probabilities for both classes\n",
    "def final_sub(max_k, x_train, y_train, x_test, ids):\n",
    "    class_1 = getResult(max_k, x_train, y_train, x_test)\n",
    "    class_0 = 1 - class_1\n",
    "    return pd.DataFrame({'Id': ids, 'class_0': class_0, 'class_1': class_1})\n",
    "\n",
    "# Calculate percentage of equal elements between two arrays\n",
    "def percentage_equal(arr1, arr2):\n",
    "    return (np.sum(arr1 == arr2) / arr1.size) * 100\n"
   ]
  },
  {
   "cell_type": "markdown",
   "id": "7d8ef146",
   "metadata": {
    "papermill": {
     "duration": 0.004793,
     "end_time": "2024-11-08T12:58:25.174124",
     "exception": false,
     "start_time": "2024-11-08T12:58:25.169331",
     "status": "completed"
    },
    "tags": []
   },
   "source": [
    "**Main function**"
   ]
  },
  {
   "cell_type": "code",
   "execution_count": 4,
   "id": "bb67ff7f",
   "metadata": {
    "collapsed": false,
    "execution": {
     "iopub.execute_input": "2024-11-08T12:58:25.186273Z",
     "iopub.status.busy": "2024-11-08T12:58:25.185791Z",
     "iopub.status.idle": "2024-11-08T12:58:25.200927Z",
     "shell.execute_reply": "2024-11-08T12:58:25.199609Z"
    },
    "jupyter": {
     "outputs_hidden": false
    },
    "papermill": {
     "duration": 0.024929,
     "end_time": "2024-11-08T12:58:25.204069",
     "exception": false,
     "start_time": "2024-11-08T12:58:25.179140",
     "status": "completed"
    },
    "pycharm": {
     "name": "#%%\n"
    },
    "tags": []
   },
   "outputs": [],
   "source": [
    "def plot_accuracy_vs_i(train_df, test_df, message):\n",
    "    \"\"\"\n",
    "    Function to plot accuracy vs i values for different KNN models.\n",
    "\n",
    "    Parameters:\n",
    "    train_df (DataFrame): Training data features.\n",
    "    test_df (DataFrame): Test data features.\n",
    "    \n",
    "    \"\"\"\n",
    "    # Split data into training and test sets\n",
    "    X_train, X_test, y_train, y_test = train_test_split(train_df, test_df, test_size=0.2, random_state=4)\n",
    "    X_train_rows = [row.to_numpy() for _, row in X_train.iterrows()]\n",
    "    X_test_rows = [row.to_numpy() for _, row in X_test.iterrows()]\n",
    "\n",
    "    # Initialize lists for storing i values and accuracies\n",
    "    i_values, accuracies = [], []\n",
    "\n",
    "    # Loop through odd values of i\n",
    "    for i in range(3, 76,1):\n",
    "        y_pred = getClassesResult(i, X_train_rows, y_train, X_test_rows)\n",
    "        accuracy = percentage_equal(y_pred, y_test)\n",
    "        i_values.append(i)\n",
    "        accuracies.append(accuracy)\n",
    "        \n",
    "    j , acc = i_values[np.argmax(accuracies)], np.max(accuracies)\n",
    "    # Plot the results\n",
    "    # plt.plot(i_values, accuracies, linestyle='-', color='b')\n",
    "    # plt.xlabel('i values')\n",
    "    # plt.ylabel('Test Accuracy')\n",
    "    # plt.title('Accuracy vs i')\n",
    "    # plt.grid(True)\n",
    "    # plt.show()\n",
    "    #print(f\"{message} Best i is: {j} with acc of: {acc:.3f}\")\n",
    "    return j , acc\n",
    "\n",
    "def run_diff_var():\n",
    "    def run(isVar, mes):\n",
    "        i_values, accuracies = [], []\n",
    "        for i in np.arange(0.05, 1, 0.05):\n",
    "            percentage = round(i * 100, 3)\n",
    "            message_with_percent = f\"{mes} at {percentage}% varianced columns\"\n",
    "            # Call your load function with the appropriate parameters\n",
    "            x, y, _ = load(per=i, isVar=isVar)  \n",
    "            j,accuracy = plot_accuracy_vs_i(x, y, message_with_percent)\n",
    "            i_values.append((i,j))\n",
    "            accuracies.append(accuracy)\n",
    "        print(f\"Best (per, K) is: {i_values[np.argmax(accuracies)]} with acc of: {np.max(accuracies):.3f}\")\n",
    "\n",
    "    run(True, \"Using variance    \")  # Message when variance is used\n",
    "    run(False, \"Not using variance\")  # Message when variance is not used\n"
   ]
  },
  {
   "cell_type": "markdown",
   "id": "9f92379c",
   "metadata": {
    "papermill": {
     "duration": 0.004677,
     "end_time": "2024-11-08T12:58:25.214974",
     "exception": false,
     "start_time": "2024-11-08T12:58:25.210297",
     "status": "completed"
    },
    "tags": []
   },
   "source": [
    "**Run Test**"
   ]
  },
  {
   "cell_type": "code",
   "execution_count": 5,
   "id": "cb1597a1",
   "metadata": {
    "execution": {
     "iopub.execute_input": "2024-11-08T12:58:25.226935Z",
     "iopub.status.busy": "2024-11-08T12:58:25.226396Z",
     "iopub.status.idle": "2024-11-08T12:58:25.231970Z",
     "shell.execute_reply": "2024-11-08T12:58:25.230883Z"
    },
    "papermill": {
     "duration": 0.014643,
     "end_time": "2024-11-08T12:58:25.234543",
     "exception": false,
     "start_time": "2024-11-08T12:58:25.219900",
     "status": "completed"
    },
    "tags": []
   },
   "outputs": [],
   "source": [
    "# x, y, _ = load()  # Load without any variance\n",
    "# plot_accuracy_vs_i(x, y, \"No variance applied\")\n",
    "# run_diff_var()"
   ]
  },
  {
   "cell_type": "markdown",
   "id": "e5033156",
   "metadata": {
    "papermill": {
     "duration": 0.004993,
     "end_time": "2024-11-08T12:58:25.244765",
     "exception": false,
     "start_time": "2024-11-08T12:58:25.239772",
     "status": "completed"
    },
    "tags": []
   },
   "source": [
    "**best: remove 0.89 var use 56 or 6 neighbors**"
   ]
  },
  {
   "cell_type": "code",
   "execution_count": 6,
   "id": "1fd115d5",
   "metadata": {
    "execution": {
     "iopub.execute_input": "2024-11-08T12:58:25.256891Z",
     "iopub.status.busy": "2024-11-08T12:58:25.256434Z",
     "iopub.status.idle": "2024-11-08T12:58:25.668828Z",
     "shell.execute_reply": "2024-11-08T12:58:25.667500Z"
    },
    "papermill": {
     "duration": 0.422745,
     "end_time": "2024-11-08T12:58:25.672596",
     "exception": false,
     "start_time": "2024-11-08T12:58:25.249851",
     "status": "completed"
    },
    "tags": []
   },
   "outputs": [
    {
     "data": {
      "text/html": [
       "<div>\n",
       "<style scoped>\n",
       "    .dataframe tbody tr th:only-of-type {\n",
       "        vertical-align: middle;\n",
       "    }\n",
       "\n",
       "    .dataframe tbody tr th {\n",
       "        vertical-align: top;\n",
       "    }\n",
       "\n",
       "    .dataframe thead th {\n",
       "        text-align: right;\n",
       "    }\n",
       "</style>\n",
       "<table border=\"1\" class=\"dataframe\">\n",
       "  <thead>\n",
       "    <tr style=\"text-align: right;\">\n",
       "      <th></th>\n",
       "      <th>Id</th>\n",
       "      <th>class_0</th>\n",
       "      <th>class_1</th>\n",
       "    </tr>\n",
       "  </thead>\n",
       "  <tbody>\n",
       "    <tr>\n",
       "      <th>0</th>\n",
       "      <td>00eed32682bb</td>\n",
       "      <td>0.860971</td>\n",
       "      <td>0.139029</td>\n",
       "    </tr>\n",
       "    <tr>\n",
       "      <th>1</th>\n",
       "      <td>010ebe33f668</td>\n",
       "      <td>0.860971</td>\n",
       "      <td>0.139029</td>\n",
       "    </tr>\n",
       "    <tr>\n",
       "      <th>2</th>\n",
       "      <td>02fa521e1838</td>\n",
       "      <td>0.860971</td>\n",
       "      <td>0.139029</td>\n",
       "    </tr>\n",
       "    <tr>\n",
       "      <th>3</th>\n",
       "      <td>040e15f562a2</td>\n",
       "      <td>0.860971</td>\n",
       "      <td>0.139029</td>\n",
       "    </tr>\n",
       "    <tr>\n",
       "      <th>4</th>\n",
       "      <td>046e85c7cc7f</td>\n",
       "      <td>0.860971</td>\n",
       "      <td>0.139029</td>\n",
       "    </tr>\n",
       "  </tbody>\n",
       "</table>\n",
       "</div>"
      ],
      "text/plain": [
       "             Id   class_0   class_1\n",
       "0  00eed32682bb  0.860971  0.139029\n",
       "1  010ebe33f668  0.860971  0.139029\n",
       "2  02fa521e1838  0.860971  0.139029\n",
       "3  040e15f562a2  0.860971  0.139029\n",
       "4  046e85c7cc7f  0.860971  0.139029"
      ]
     },
     "execution_count": 6,
     "metadata": {},
     "output_type": "execute_result"
    }
   ],
   "source": [
    "x, y, high_variance_columns = load(per=0.89, isVar=False) \n",
    "\n",
    "# X_train, X_test, y_train, y_test = train_test_split(x, y, test_size=0.2, random_state= 4)\n",
    "X_train_rows = [row.to_numpy() for _, row in x.iterrows()]\n",
    "\n",
    "test_df_1 = pd.read_csv('/kaggle/input/icr-identify-age-related-conditions/test.csv')\n",
    "\n",
    "test_ds_pd = test_df_1.drop('Id' ,axis=1)\n",
    "\n",
    "test_ds_pd['EJ'] = test_ds_pd['EJ'].map({'A': 0, 'B': 1})\n",
    "test_ds_pd.fillna(test_ds_pd.mean(), inplace=True)\n",
    "\n",
    "# avoid var\n",
    "test_ds_pd.drop(columns=high_variance_columns, inplace=True)\n",
    "\n",
    "X_test_rows = [row.to_numpy() for _, row in test_ds_pd.iterrows()]\n",
    "\n",
    "df = final_sub(101, X_train_rows, y, X_test_rows, test_df_1.Id)\n",
    "df.to_csv('/kaggle/working/submission.csv', index=False)\n",
    "df"
   ]
  },
  {
   "cell_type": "code",
   "execution_count": null,
   "id": "9c2acc42",
   "metadata": {
    "papermill": {
     "duration": 0.006162,
     "end_time": "2024-11-08T12:58:25.692402",
     "exception": false,
     "start_time": "2024-11-08T12:58:25.686240",
     "status": "completed"
    },
    "tags": []
   },
   "outputs": [],
   "source": []
  }
 ],
 "metadata": {
  "kaggle": {
   "accelerator": "none",
   "dataSources": [
    {
     "databundleVersionId": 5687476,
     "sourceId": 52784,
     "sourceType": "competition"
    }
   ],
   "dockerImageVersionId": 30786,
   "isGpuEnabled": false,
   "isInternetEnabled": false,
   "language": "python",
   "sourceType": "notebook"
  },
  "kernelspec": {
   "display_name": "Python 3",
   "language": "python",
   "name": "python3"
  },
  "language_info": {
   "codemirror_mode": {
    "name": "ipython",
    "version": 3
   },
   "file_extension": ".py",
   "mimetype": "text/x-python",
   "name": "python",
   "nbconvert_exporter": "python",
   "pygments_lexer": "ipython3",
   "version": "3.10.14"
  },
  "papermill": {
   "default_parameters": {},
   "duration": 24.468594,
   "end_time": "2024-11-08T12:58:27.327109",
   "environment_variables": {},
   "exception": null,
   "input_path": "__notebook__.ipynb",
   "output_path": "__notebook__.ipynb",
   "parameters": {},
   "start_time": "2024-11-08T12:58:02.858515",
   "version": "2.5.0"
  }
 },
 "nbformat": 4,
 "nbformat_minor": 5
}
