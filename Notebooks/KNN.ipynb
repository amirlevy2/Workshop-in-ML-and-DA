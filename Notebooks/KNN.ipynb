{
 "cells": [
  {
   "cell_type": "markdown",
   "id": "86d5affa",
   "metadata": {
    "papermill": {
     "duration": 0.005574,
     "end_time": "2024-11-08T12:45:25.712196",
     "exception": false,
     "start_time": "2024-11-08T12:45:25.706622",
     "status": "completed"
    },
    "tags": []
   },
   "source": [
    "Import packages for training KNN"
   ]
  },
  {
   "cell_type": "code",
   "execution_count": null,
   "id": "032392bc",
   "metadata": {
    "execution": {
     "iopub.execute_input": "2024-11-08T12:37:23.997816Z",
     "iopub.status.busy": "2024-11-08T12:37:23.997276Z",
     "iopub.status.idle": "2024-11-08T12:37:24.005189Z",
     "shell.execute_reply": "2024-11-08T12:37:24.003760Z",
     "shell.execute_reply.started": "2024-11-08T12:37:23.997763Z"
    },
    "papermill": {
     "duration": null,
     "end_time": null,
     "exception": false,
     "start_time": "2024-11-08T12:45:25.717564",
     "status": "running"
    },
    "pycharm": {
     "name": "#%%\n"
    },
    "tags": []
   },
   "outputs": [],
   "source": [
    "import tensorflow as tf\n",
    "\n",
    "import pandas as pd\n",
    "\n",
    "import numpy as np\n",
    "\n",
    "import seaborn as sns\n",
    "\n",
    "import matplotlib.pyplot as plt\n",
    "\n",
    "from sklearn.neighbors import KNeighborsClassifier\n",
    "\n",
    "from sklearn.model_selection import KFold\n",
    "\n",
    "from sklearn.model_selection import train_test_split\n",
    "\n",
    "from sklearn.metrics import accuracy_score, classification_report\n",
    "\n",
    "\n"
   ]
  },
  {
   "cell_type": "markdown",
   "id": "fa5e2991",
   "metadata": {
    "papermill": {
     "duration": null,
     "end_time": null,
     "exception": null,
     "start_time": null,
     "status": "pending"
    },
    "tags": []
   },
   "source": [
    "**Load data with or without varinced columns**"
   ]
  },
  {
   "cell_type": "code",
   "execution_count": null,
   "id": "c984a90a",
   "metadata": {
    "collapsed": false,
    "execution": {
     "iopub.execute_input": "2024-11-08T12:37:24.013687Z",
     "iopub.status.busy": "2024-11-08T12:37:24.013167Z",
     "iopub.status.idle": "2024-11-08T12:37:24.025332Z",
     "shell.execute_reply": "2024-11-08T12:37:24.023952Z",
     "shell.execute_reply.started": "2024-11-08T12:37:24.013641Z"
    },
    "jupyter": {
     "outputs_hidden": false
    },
    "papermill": {
     "duration": null,
     "end_time": null,
     "exception": null,
     "start_time": null,
     "status": "pending"
    },
    "pycharm": {
     "name": "#%%\n"
    },
    "tags": []
   },
   "outputs": [],
   "source": [
    "def load(per = 0, isVar = False):\n",
    "    df = pd.read_csv('/kaggle/input/icr-identify-age-related-conditions/train.csv')\n",
    "    \n",
    "    df.drop('Id', axis=1, inplace=True)\n",
    "    \n",
    "    train_df = df.drop('Class', axis=1)\n",
    "    \n",
    "    test_df = df['Class']\n",
    "    \n",
    "    # map A to 0 B to 1 - will also try use other numbers or ignore this column\n",
    "    train_df['EJ'] = train_df['EJ'].map({'A': 0, 'B': 1})\n",
    "    \n",
    "    # replace null values with the mean of the column\n",
    "    train_df.fillna(train_df.mean(), inplace=True)\n",
    "    \n",
    "    # remove top 'per' varianced columns\n",
    "    def remove_var(X_train, isVar, per = 0.1):\n",
    "        # Calculate the variance of each column\n",
    "        variances = X_train.var()\n",
    "        \n",
    "        # Sort variances in descending order and select the top 20% most variable columns\n",
    "        top_var = int(len(variances) * per)\n",
    "        high_variance_columns = variances.nlargest(top_var).index\n",
    "        # print(\"HELP. PER = \", per, \" ISVAR\", isVar)\n",
    "        if not isVar:\n",
    "            # Drop these high variance columns from the train_df\n",
    "            X_train.drop(columns=high_variance_columns, inplace=True)\n",
    "        else: \n",
    "            X_train = X_train[high_variance_columns]\n",
    "        \n",
    "        return X_train, high_variance_columns\n",
    "    if per == 0: return train_df, test_df, None\n",
    "        \n",
    "    train_df, high_variance_columns = remove_var(train_df, isVar, per)\n",
    "    return train_df, test_df, high_variance_columns"
   ]
  },
  {
   "cell_type": "markdown",
   "id": "c3abfef0",
   "metadata": {
    "papermill": {
     "duration": null,
     "end_time": null,
     "exception": null,
     "start_time": null,
     "status": "pending"
    },
    "tags": []
   },
   "source": [
    "**Helper Function**"
   ]
  },
  {
   "cell_type": "code",
   "execution_count": null,
   "id": "268e0b1c",
   "metadata": {
    "execution": {
     "iopub.execute_input": "2024-11-08T12:37:24.033439Z",
     "iopub.status.busy": "2024-11-08T12:37:24.032912Z",
     "iopub.status.idle": "2024-11-08T12:37:24.045502Z",
     "shell.execute_reply": "2024-11-08T12:37:24.044131Z",
     "shell.execute_reply.started": "2024-11-08T12:37:24.033395Z"
    },
    "papermill": {
     "duration": null,
     "end_time": null,
     "exception": null,
     "start_time": null,
     "status": "pending"
    },
    "tags": []
   },
   "outputs": [],
   "source": [
    "# KNN function to return probability for class 1\n",
    "def k_NN(data, labels, k, testData):\n",
    "    knn = KNeighborsClassifier(n_neighbors=k)\n",
    "    knn.fit(data, labels)\n",
    "    return knn.predict_proba(testData)[:, 1]\n",
    "\n",
    "# Calculate average probabilities across multiple KNN models\n",
    "def getResult(max_k, x_train, y_train, x_test):\n",
    "    arrays = [k_NN(x_train, y_train, i, x_test) for i in range(3, max_k + 1, 1)]  # KNN for odd k values\n",
    "    return np.mean(np.stack(arrays), axis=0)  # Average across all models\n",
    "\n",
    "# Convert probabilities to class predictions (0 or 1)\n",
    "def getClassesResult(max_k, x_train, y_train, x_test):\n",
    "    return np.where(getResult(max_k, x_train, y_train, x_test) >= 0.5, 1, 0)\n",
    "\n",
    "# Generate final DataFrame with probabilities for both classes\n",
    "def final_sub(max_k, x_train, y_train, x_test, ids):\n",
    "    class_1 = getResult(max_k, x_train, y_train, x_test)\n",
    "    class_0 = 1 - class_1\n",
    "    return pd.DataFrame({'Id': ids, 'class_0': class_0, 'class_1': class_1})\n",
    "\n",
    "# Calculate percentage of equal elements between two arrays\n",
    "def percentage_equal(arr1, arr2):\n",
    "    return (np.sum(arr1 == arr2) / arr1.size) * 100\n"
   ]
  },
  {
   "cell_type": "markdown",
   "id": "c9b7d3e7",
   "metadata": {
    "papermill": {
     "duration": null,
     "end_time": null,
     "exception": null,
     "start_time": null,
     "status": "pending"
    },
    "tags": []
   },
   "source": [
    "**Main function**"
   ]
  },
  {
   "cell_type": "code",
   "execution_count": null,
   "id": "c28aa6b3",
   "metadata": {
    "collapsed": false,
    "execution": {
     "iopub.execute_input": "2024-11-08T12:37:55.962664Z",
     "iopub.status.busy": "2024-11-08T12:37:55.962225Z",
     "iopub.status.idle": "2024-11-08T12:37:55.976095Z",
     "shell.execute_reply": "2024-11-08T12:37:55.974996Z",
     "shell.execute_reply.started": "2024-11-08T12:37:55.962623Z"
    },
    "jupyter": {
     "outputs_hidden": false
    },
    "papermill": {
     "duration": null,
     "end_time": null,
     "exception": null,
     "start_time": null,
     "status": "pending"
    },
    "pycharm": {
     "name": "#%%\n"
    },
    "tags": []
   },
   "outputs": [],
   "source": [
    "def plot_accuracy_vs_i(train_df, test_df, message):\n",
    "    \"\"\"\n",
    "    Function to plot accuracy vs i values for different KNN models.\n",
    "\n",
    "    Parameters:\n",
    "    train_df (DataFrame): Training data features.\n",
    "    test_df (DataFrame): Test data features.\n",
    "    \n",
    "    \"\"\"\n",
    "    # Split data into training and test sets\n",
    "    X_train, X_test, y_train, y_test = train_test_split(train_df, test_df, test_size=0.2, random_state=4)\n",
    "    X_train_rows = [row.to_numpy() for _, row in X_train.iterrows()]\n",
    "    X_test_rows = [row.to_numpy() for _, row in X_test.iterrows()]\n",
    "\n",
    "    # Initialize lists for storing i values and accuracies\n",
    "    i_values, accuracies = [], []\n",
    "\n",
    "    # Loop through odd values of i\n",
    "    for i in range(3, 76,1):\n",
    "        y_pred = getClassesResult(i, X_train_rows, y_train, X_test_rows)\n",
    "        accuracy = percentage_equal(y_pred, y_test)\n",
    "        i_values.append(i)\n",
    "        accuracies.append(accuracy)\n",
    "        \n",
    "    j , acc = i_values[np.argmax(accuracies)], np.max(accuracies)\n",
    "    # Plot the results\n",
    "    # plt.plot(i_values, accuracies, linestyle='-', color='b')\n",
    "    # plt.xlabel('i values')\n",
    "    # plt.ylabel('Test Accuracy')\n",
    "    # plt.title('Accuracy vs i')\n",
    "    # plt.grid(True)\n",
    "    # plt.show()\n",
    "    #print(f\"{message} Best i is: {j} with acc of: {acc:.3f}\")\n",
    "    return j , acc\n",
    "\n",
    "def run_diff_var():\n",
    "    def run(isVar, mes):\n",
    "        i_values, accuracies = [], []\n",
    "        for i in np.arange(0.05, 1, 0.05):\n",
    "            percentage = round(i * 100, 3)\n",
    "            message_with_percent = f\"{mes} at {percentage}% varianced columns\"\n",
    "            # Call your load function with the appropriate parameters\n",
    "            x, y, _ = load(per=i, isVar=isVar)  \n",
    "            j,accuracy = plot_accuracy_vs_i(x, y, message_with_percent)\n",
    "            i_values.append((i,j))\n",
    "            accuracies.append(accuracy)\n",
    "        print(f\"Best (per, K) is: {i_values[np.argmax(accuracies)]} with acc of: {np.max(accuracies):.3f}\")\n",
    "\n",
    "    run(True, \"Using variance    \")  # Message when variance is used\n",
    "    run(False, \"Not using variance\")  # Message when variance is not used\n"
   ]
  },
  {
   "cell_type": "markdown",
   "id": "d6737902",
   "metadata": {
    "papermill": {
     "duration": null,
     "end_time": null,
     "exception": null,
     "start_time": null,
     "status": "pending"
    },
    "tags": []
   },
   "source": [
    "**Run Test**"
   ]
  },
  {
   "cell_type": "code",
   "execution_count": null,
   "id": "cb1c23f0",
   "metadata": {
    "execution": {
     "iopub.execute_input": "2024-11-08T12:37:59.955174Z",
     "iopub.status.busy": "2024-11-08T12:37:59.954726Z",
     "iopub.status.idle": "2024-11-08T12:44:28.785095Z",
     "shell.execute_reply": "2024-11-08T12:44:28.783914Z",
     "shell.execute_reply.started": "2024-11-08T12:37:59.955132Z"
    },
    "papermill": {
     "duration": null,
     "end_time": null,
     "exception": null,
     "start_time": null,
     "status": "pending"
    },
    "tags": []
   },
   "outputs": [],
   "source": [
    "x, y, _ = load()  # Load without any variance\n",
    "plot_accuracy_vs_i(x, y, \"No variance applied\")\n",
    "run_diff_var()"
   ]
  },
  {
   "cell_type": "markdown",
   "id": "b657e38d",
   "metadata": {
    "papermill": {
     "duration": null,
     "end_time": null,
     "exception": null,
     "start_time": null,
     "status": "pending"
    },
    "tags": []
   },
   "source": [
    "**best: remove 0.89 var use 56 or 6 neighbors**"
   ]
  },
  {
   "cell_type": "code",
   "execution_count": null,
   "id": "86a2e48a",
   "metadata": {
    "execution": {
     "iopub.execute_input": "2024-11-08T12:44:34.141090Z",
     "iopub.status.busy": "2024-11-08T12:44:34.140621Z",
     "iopub.status.idle": "2024-11-08T12:44:34.373062Z",
     "shell.execute_reply": "2024-11-08T12:44:34.371779Z",
     "shell.execute_reply.started": "2024-11-08T12:44:34.141042Z"
    },
    "papermill": {
     "duration": null,
     "end_time": null,
     "exception": null,
     "start_time": null,
     "status": "pending"
    },
    "tags": []
   },
   "outputs": [],
   "source": [
    "x, y, high_variance_columns = load(per=0.89, isVar=False) \n",
    "\n",
    "# X_train, X_test, y_train, y_test = train_test_split(x, y, test_size=0.2, random_state= 4)\n",
    "X_train_rows = [row.to_numpy() for _, row in x.iterrows()]\n",
    "\n",
    "test_df_1 = pd.read_csv('/kaggle/input/icr-identify-age-related-conditions/test.csv')\n",
    "\n",
    "test_ds_pd = test_df_1.drop('Id' ,axis=1)\n",
    "\n",
    "test_ds_pd['EJ'] = test_ds_pd['EJ'].map({'A': 0, 'B': 1})\n",
    "test_ds_pd.fillna(test_ds_pd.mean(), inplace=True)\n",
    "\n",
    "# avoid var\n",
    "test_ds_pd.drop(columns=high_variance_columns, inplace=True)\n",
    "\n",
    "X_test_rows = [row.to_numpy() for _, row in test_ds_pd.iterrows()]\n",
    "\n",
    "df = final_sub(56, X_train_rows, y, X_test_rows, test_df_1.Id)\n",
    "df.to_csv('/kaggle/working/submission.csv', index=False)\n",
    "df"
   ]
  },
  {
   "cell_type": "code",
   "execution_count": null,
   "id": "5695f42a",
   "metadata": {
    "papermill": {
     "duration": null,
     "end_time": null,
     "exception": null,
     "start_time": null,
     "status": "pending"
    },
    "tags": []
   },
   "outputs": [],
   "source": []
  }
 ],
 "metadata": {
  "kaggle": {
   "accelerator": "none",
   "dataSources": [
    {
     "databundleVersionId": 5687476,
     "sourceId": 52784,
     "sourceType": "competition"
    }
   ],
   "dockerImageVersionId": 30786,
   "isGpuEnabled": false,
   "isInternetEnabled": false,
   "language": "python",
   "sourceType": "notebook"
  },
  "kernelspec": {
   "display_name": "Python 3",
   "language": "python",
   "name": "python3"
  },
  "language_info": {
   "codemirror_mode": {
    "name": "ipython",
    "version": 3
   },
   "file_extension": ".py",
   "mimetype": "text/x-python",
   "name": "python",
   "nbconvert_exporter": "python",
   "pygments_lexer": "ipython3",
   "version": "3.10.14"
  },
  "papermill": {
   "default_parameters": {},
   "duration": null,
   "end_time": null,
   "environment_variables": {},
   "exception": null,
   "input_path": "__notebook__.ipynb",
   "output_path": "__notebook__.ipynb",
   "parameters": {},
   "start_time": "2024-11-08T12:45:22.406868",
   "version": "2.5.0"
  }
 },
 "nbformat": 4,
 "nbformat_minor": 5
}